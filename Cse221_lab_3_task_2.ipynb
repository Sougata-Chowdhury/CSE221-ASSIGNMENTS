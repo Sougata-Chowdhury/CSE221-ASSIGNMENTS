{
  "cells": [
    {
      "cell_type": "code",
      "execution_count": 10,
      "metadata": {
        "colab": {
          "base_uri": "https://localhost:8080/"
        },
        "id": "89NudC0WJ77k",
        "outputId": "11c41593-79b4-4795-a02a-caeb6904ae37"
      },
      "outputs": [
        {
          "data": {
            "text/plain": [
              "2"
            ]
          },
          "execution_count": 10,
          "metadata": {},
          "output_type": "execute_result"
        }
      ],
      "source": [
        "def Findmax(arr):\n",
        "  if len(arr)<=1:\n",
        "    return arr[0]\n",
        "  mid=len(arr)//2\n",
        "  a1=Findmax(arr[:mid])\n",
        "  a2=Findmax(arr[mid:])\n",
        "  if a1>=a2:\n",
        "    return a1\n",
        "  else:\n",
        "    return a2\n",
        "inputfile= open(\"input2.txt\",\"r\")\n",
        "outputfile=open(\"output2.txt\",\"w\")\n",
        "l=inputfile.readlines()\n",
        "arr=list(map(int,l[1].split(\" \")))\n",
        "\n",
        "outputfile.write(f\"{Findmax(arr)}\")\n",
        "outputfile.close()\n",
        "#(\"The time complexity of  the code is O(n log n)\")"
      ]
    }
  ],
  "metadata": {
    "colab": {
      "provenance": []
    },
    "kernelspec": {
      "display_name": "Python 3",
      "name": "python3"
    },
    "language_info": {
      "name": "python"
    }
  },
  "nbformat": 4,
  "nbformat_minor": 0
}
