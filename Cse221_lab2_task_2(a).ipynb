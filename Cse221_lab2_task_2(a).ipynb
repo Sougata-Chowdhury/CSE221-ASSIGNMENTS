{
  "nbformat": 4,
  "nbformat_minor": 0,
  "metadata": {
    "colab": {
      "provenance": []
    },
    "kernelspec": {
      "name": "python3",
      "display_name": "Python 3"
    },
    "language_info": {
      "name": "python"
    }
  },
  "cells": [
    {
      "cell_type": "code",
      "execution_count": 2,
      "metadata": {
        "id": "giyhwU5oMHWT"
      },
      "outputs": [],
      "source": [
        "def mergeArray(arr1,arr2,n1,n2):\n",
        "  array = []\n",
        "  for i in range(n1):\n",
        "    array.append(arr1[i])\n",
        "  for j in range(n2):\n",
        "    array.append(arr2[j])\n",
        "\n",
        "  array.sort()\n",
        "  return array\n",
        "\n",
        "inputfile = open(\"input2a.txt\",\"r\")\n",
        "outputfile = open(\"output2a.txt\",\"w\")\n",
        "\n",
        "l = inputfile.readlines()\n",
        "arr1 = list(map(int,l[1].split(\" \")))\n",
        "arr2 = list(map(int,l[3].split(\" \")))\n",
        "n1=int(l[0])\n",
        "n2=int(l[2])\n",
        "outputfile.write(\" \".join(map(str,mergeArray(arr1,arr2,n1,n2))))\n",
        "outputfile.close()"
      ]
    }
  ]
}