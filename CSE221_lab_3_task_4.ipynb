{
  "nbformat": 4,
  "nbformat_minor": 0,
  "metadata": {
    "colab": {
      "provenance": []
    },
    "kernelspec": {
      "name": "python3",
      "display_name": "Python 3"
    },
    "language_info": {
      "name": "python"
    }
  },
  "cells": [
    {
      "cell_type": "code",
      "source": [
        "def mergesort(arr):\n",
        "  if len(arr)<=1:\n",
        "    return arr\n",
        "  mid=len(arr)//2\n",
        "  a1=mergesort(arr[0:mid])\n",
        "  a2=mergesort(arr[mid:])\n",
        "  sorted_arr=merge(a1,a2)\n",
        "  return sorted_arr\n",
        "def merge(a,b):\n",
        "  i=0\n",
        "  j=0\n",
        "  l=[]\n",
        "  while i<len(a) and j<len(b):\n",
        "    if a[i]<=b[j]:\n",
        "      l+=[a[i]]\n",
        "      i+=1\n",
        "    else:\n",
        "      l+=[b[j]]\n",
        "      j+=1\n",
        "  if i<len(a):\n",
        "    l+=a[i:]\n",
        "  if j<len(b):\n",
        "    l+=b[j:]\n",
        "  return l\n",
        "\n",
        "def max_sum(arr):\n",
        "  sqr_arr = []\n",
        "  for idx in range(len(arr)):\n",
        "    val = arr[idx]\n",
        "    sqr_arr.append((val ** 2, idx))\n",
        "  sqr_arr = mergesort(sqr_arr)\n",
        "  i, j = 0, len(arr) - 1\n",
        "  maxx = 0\n",
        "  while i < j:\n",
        "    if sqr_arr[j][1] <= i:\n",
        "      j -= 1\n",
        "    sum = arr[i] + sqr_arr[j][0]\n",
        "    maxx = max(maxx, sum)\n",
        "    i += 1\n",
        "  return maxx\n",
        "\n",
        "inputfile= open(\"input4.txt\",\"r\")\n",
        "outputfile=open(\"output4.txt\",\"w\")\n",
        "l=inputfile.readlines()\n",
        "arr=list(map(int,l[1].split(\" \")))\n",
        "\n",
        "outputfile.write(f\"{max_sum(arr)}\")\n",
        "outputfile.close()"
      ],
      "metadata": {
        "id": "o_GnGAnbtF2e"
      },
      "execution_count": 6,
      "outputs": []
    }
  ]
}