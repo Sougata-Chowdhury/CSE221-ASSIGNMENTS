{
  "nbformat": 4,
  "nbformat_minor": 0,
  "metadata": {
    "colab": {
      "provenance": []
    },
    "kernelspec": {
      "name": "python3",
      "display_name": "Python 3"
    },
    "language_info": {
      "name": "python"
    }
  },
  "cells": [
    {
      "cell_type": "code",
      "source": [
        "with open (\"input1b.txt\",'r') as file:\n",
        "  skip=next(file)\n",
        "  with open (\"Output1b.txt\",\"w\") as file2:\n",
        "    for i in file:\n",
        "      l=i.split()\n",
        "      if l[2]==\"+\":\n",
        "        file2.write(f\"The result of {l[1]} + {l[3]} is {int(l[1])+int(l[3])}\\n\")\n",
        "      elif l[2]==\"-\":\n",
        "        file2.write(f\"The result of {l[1]} - {l[3]} is {int(l[1])-int(l[3])}\\n\")\n",
        "      elif l[2]==\"/\":\n",
        "        file2.write(f\"The result of {l[1]} / {l[3]} is {int(l[1])/int(l[3])}\\n\")\n",
        "      elif l[2]==\"*\":\n",
        "        file2.write(f\"The result of {l[1]} * {l[3]} is {int(l[1])*int(l[3])}\\n\")"
      ],
      "metadata": {
        "id": "F76KT6t5sdmL"
      },
      "execution_count": 3,
      "outputs": []
    }
  ]
}