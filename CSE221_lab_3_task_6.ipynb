{
  "nbformat": 4,
  "nbformat_minor": 0,
  "metadata": {
    "colab": {
      "provenance": []
    },
    "kernelspec": {
      "name": "python3",
      "display_name": "Python 3"
    },
    "language_info": {
      "name": "python"
    }
  },
  "cells": [
    {
      "cell_type": "code",
      "execution_count": null,
      "metadata": {
        "id": "arCv5zwGqIa6"
      },
      "outputs": [],
      "source": [
        "def partition(arr, start, end):\n",
        "    pivot = arr[end]\n",
        "    i = start - 1\n",
        "    for j in range(start, end):\n",
        "        if arr[j] <= pivot:\n",
        "            i = i + 1\n",
        "            arr[i], arr[j] = arr[j], arr[i]\n",
        "    arr[i + 1], arr[end] = arr[end], arr[i + 1]\n",
        "    return i + 1\n",
        "\n",
        "def kthSmallest(arr, left, right, k):\n",
        "\n",
        "    if (k > 0 and k <= right - left + 1):\n",
        "        idx = partition(arr, left, right)\n",
        "        if idx - left > k - 1:\n",
        "            return kthSmallest(arr, left, idx - 1, k)\n",
        "        if idx - left == k - 1:\n",
        "            return arr[idx]\n",
        "        return kthSmallest(arr, idx + 1, right,k - idx + left - 1)\n",
        "\n",
        "    return -1\n",
        "\n",
        "\n",
        "with open(\"input6.txt\",\"r\") as abc:\n",
        "      var=abc.read().split('\\n')[1:]\n",
        "      c=open(\"output6.txt\",\"w\")\n",
        "      arr = var[0].split(\" \")\n",
        "      for iter1 in range(len(arr)):\n",
        "          arr[iter1]=int(arr[iter1])\n",
        "      t=int(var[1])\n",
        "      iter3=2\n",
        "      answer=[]\n",
        "      for iter2 in range(t):\n",
        "          k=int(var[iter3])\n",
        "          answer.append(str(kthSmallest(arr, 0, len(arr) - 1,k)))\n",
        "          iter3+=1\n",
        "      for elem in answer:\n",
        "          for elem2 in elem:\n",
        "              c.write(str(elem2) + \"\")\n",
        "          c.write(\"\\n\")\n"
      ]
    },
    {
      "cell_type": "code",
      "source": [
        "def partition(arr, start, end):\n",
        "    pivot = arr[end]\n",
        "    i = start - 1\n",
        "    for j in range(start, end):\n",
        "        if arr[j] <= pivot:\n",
        "            i = i + 1\n",
        "            arr[i], arr[j] = arr[j], arr[i]\n",
        "    arr[i + 1], arr[end] = arr[end], arr[i + 1]\n",
        "    return i + 1\n",
        "\n",
        "def kthSmallest(arr, left, right, k):\n",
        "\n",
        "    if (k > 0 and k <= right - left + 1):\n",
        "        idx = partition(arr, left, right)\n",
        "        if idx - left > k - 1:\n",
        "            return kthSmallest(arr, left, idx - 1, k)\n",
        "        if idx - left == k - 1:\n",
        "            return arr[idx]\n",
        "        return kthSmallest(arr, idx + 1, right,k - idx + left - 1)\n",
        "\n",
        "    return -1\n",
        "\n",
        "\n",
        "inputfile = open(\"input6.txt\", 'r')\n",
        "outputfile = open(\"output6.txt\", \"w\")\n",
        "line = inputfile.readline().split()\n",
        "line = int(line[0].strip())\n",
        "array = [int(i) for i in inputfile.readline().split()]\n",
        "x = int(inputfile.readline().split()[0])\n",
        "for i in range(x):\n",
        "  k = int(inputfile.readline())\n",
        "  num = kthSmallest(array,0,len(array)-1, k)\n",
        "  outputfile.write(f\"{num}\\n\")\n",
        "outputfile.close()"
      ],
      "metadata": {
        "id": "TmCXejfCoUfF"
      },
      "execution_count": 2,
      "outputs": []
    }
  ]
}