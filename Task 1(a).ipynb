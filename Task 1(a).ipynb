{
  "nbformat": 4,
  "nbformat_minor": 0,
  "metadata": {
    "colab": {
      "provenance": []
    },
    "kernelspec": {
      "name": "python3",
      "display_name": "Python 3"
    },
    "language_info": {
      "name": "python"
    }
  },
  "cells": [
    {
      "cell_type": "code",
      "execution_count": 2,
      "metadata": {
        "id": "1J1k_kBlnTnz"
      },
      "outputs": [],
      "source": [
        "with open (\"input1a.txt\",'r') as file:\n",
        "  skip=next(file)\n",
        "  with open (\"Output1a.txt\",\"w\") as file2:\n",
        "    for i in file:\n",
        "      l=i.strip()\n",
        "      if int(l)%2==0:\n",
        "        file2.write(f\"{l} is an Even number.\\n\")\n",
        "      else:\n",
        "        file2.write(f\"{l} is an Odd number.\\n\")"
      ]
    }
  ]
}