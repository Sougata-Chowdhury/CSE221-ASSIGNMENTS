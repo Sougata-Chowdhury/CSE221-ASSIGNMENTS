{
  "nbformat": 4,
  "nbformat_minor": 0,
  "metadata": {
    "colab": {
      "provenance": []
    },
    "kernelspec": {
      "name": "python3",
      "display_name": "Python 3"
    },
    "language_info": {
      "name": "python"
    }
  },
  "cells": [
    {
      "cell_type": "code",
      "execution_count": 7,
      "metadata": {
        "id": "anZuFPhcehXT"
      },
      "outputs": [],
      "source": [
        "def partition(arr, start, end):\n",
        "  pivot = arr[end]\n",
        "  i = start - 1\n",
        "  for j in range(start, end):\n",
        "    if arr[j] <= pivot:\n",
        "      i = i + 1\n",
        "      arr[i], arr[j] = arr[j], arr[i]\n",
        "  arr[i + 1], arr[end] = arr[end], arr[i + 1]\n",
        "  return i + 1\n",
        "def quickSort(arr, start, end):\n",
        "  if start < end:\n",
        "    pivot = partition(arr, start, end)\n",
        "    quickSort(arr, start, pivot - 1)\n",
        "    quickSort(arr, pivot + 1, end)\n",
        "    return arr\n",
        "\n",
        "inputfile = open(\"input5.txt\",\"r\")\n",
        "outputfile = open(\"output5.txt\",\"w\")\n",
        "\n",
        "arr =list(map(int,inputfile.readlines()[1].split(\" \")))\n",
        "print(\" \".join(map(str,quickSort(arr,0,len(arr)-1))),file = outputfile)\n",
        "outputfile.close()"
      ]
    }
  ]
}