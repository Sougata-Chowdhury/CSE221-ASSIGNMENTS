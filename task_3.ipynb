{
  "nbformat": 4,
  "nbformat_minor": 0,
  "metadata": {
    "colab": {
      "provenance": []
    },
    "kernelspec": {
      "name": "python3",
      "display_name": "Python 3"
    },
    "language_info": {
      "name": "python"
    }
  },
  "cells": [
    {
      "cell_type": "code",
      "source": [
        "input = open(\"input3.txt\",\"r\")\n",
        "output = open(\"output3.txt\",\"w\")\n",
        "\n",
        "def selectionSort(student_id, student_mark, size):\n",
        "  for step in range(size):\n",
        "    idx = step\n",
        "    for i in range(step + 1, size):\n",
        "      if student_mark[i] > student_mark[idx]:\n",
        "        idx = i\n",
        "\n",
        "      elif student_mark[i] == student_mark[idx] and student_id[i] < student_id[idx]:\n",
        "        idx = i\n",
        "\n",
        "    student_id[step], student_id[idx] = student_id[idx], student_id[step]\n",
        "    student_mark[step], student_mark[idx] = student_mark[idx], student_mark[step]\n",
        "\n",
        "  return (student_id , student_mark)\n",
        "\n",
        "lines = input.readlines()\n",
        "size = int(lines[0])\n",
        "student_id = list(map(int, lines[1][:-1].split(\" \")))\n",
        "student_mark = list(map(int, lines[2].split(\" \")))\n",
        "\n",
        "sortedStudentId, sortedMark = selectionSort(student_id, student_mark, size)\n",
        "\n",
        "for i in range(size):\n",
        "  output.write(f\"ID: {sortedStudentId[i]} Mark: {sortedMark[i]}\\n\")\n",
        "\n",
        "output.close()"
      ],
      "metadata": {
        "id": "8vCZJlQGffyb"
      },
      "execution_count": null,
      "outputs": []
    }
  ]
}