{
  "nbformat": 4,
  "nbformat_minor": 0,
  "metadata": {
    "colab": {
      "provenance": []
    },
    "kernelspec": {
      "name": "python3",
      "display_name": "Python 3"
    },
    "language_info": {
      "name": "python"
    }
  },
  "cells": [
    {
      "cell_type": "code",
      "source": [
        "def merge_count(arr):\n",
        "  n = len(arr)\n",
        "  if n <= 1:\n",
        "    return 0\n",
        "  mid = n // 2\n",
        "  left_arr = arr[:mid]\n",
        "  right_arr = arr[mid:]\n",
        "  count = merge_count(left_arr) + merge_count(right_arr)\n",
        "  i = 0\n",
        "  j = 0\n",
        "  k = 0\n",
        "  while i < len(left_arr) and j < len(right_arr):\n",
        "    if left_arr[i] <= right_arr[j]:\n",
        "      arr[k] = left_arr[i]\n",
        "      i += 1\n",
        "      k += 1\n",
        "    else:\n",
        "      arr[k] = right_arr[j]\n",
        "      j += 1\n",
        "      count +=  len(left_arr) - i\n",
        "      k += 1\n",
        "  while i< len(left_arr):\n",
        "    arr[k]=left_arr[i]\n",
        "    k+=1\n",
        "    i+=1\n",
        "  while j< len(right_arr):\n",
        "    arr[k]=right_arr[j]\n",
        "    j+=1\n",
        "    k+=1\n",
        "\n",
        "  return count\n",
        "\n",
        "inputfile= open(\"input3.txt\",\"r\")\n",
        "outputfile=open(\"output3.txt\",\"w\")\n",
        "l=inputfile.readlines()\n",
        "arr=list(map(int,l[1].split(\" \")))\n",
        "\n",
        "outputfile.write(f\"{merge_count(arr)}\")\n",
        "outputfile.close()"
      ],
      "metadata": {
        "id": "bjEkyznobjqB"
      },
      "execution_count": 7,
      "outputs": []
    }
  ]
}