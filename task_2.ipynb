{
  "nbformat": 4,
  "nbformat_minor": 0,
  "metadata": {
    "colab": {
      "provenance": []
    },
    "kernelspec": {
      "name": "python3",
      "display_name": "Python 3"
    },
    "language_info": {
      "name": "python"
    }
  },
  "cells": [
    {
      "cell_type": "code",
      "execution_count": 2,
      "metadata": {
        "id": "KDxenuPfv-_9"
      },
      "outputs": [],
      "source": [
        "def bubbleSort(arr):\n",
        "  swapping=False\n",
        "  for i in range(len(arr)-1):\n",
        "    for j in range(len(arr)-i-1):\n",
        "      if arr[j] > arr[j+1]:\n",
        "        arr[j], arr[j+1] = arr[j+1], arr[j]\n",
        "        swapping=True\n",
        "    if swapping==False:\n",
        "      break\n",
        "  return arr\n",
        "\n",
        "input= open('input2.txt','r')\n",
        "output= open(\"output2.txt\",'w')\n",
        "array = list(map(str, input.readlines()[1].split()))\n",
        "output.write(str((bubbleSort(array))))\n",
        "output.close()"
      ]
    }
  ]
}