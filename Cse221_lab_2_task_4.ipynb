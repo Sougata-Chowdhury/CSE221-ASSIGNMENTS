{
  "nbformat": 4,
  "nbformat_minor": 0,
  "metadata": {
    "colab": {
      "provenance": []
    },
    "kernelspec": {
      "name": "python3",
      "display_name": "Python 3"
    },
    "language_info": {
      "name": "python"
    }
  },
  "cells": [
    {
      "cell_type": "code",
      "execution_count": 1,
      "metadata": {
        "id": "JCg0U0yRuBTY"
      },
      "outputs": [],
      "source": [
        "def Task_Manager(arr):\n",
        "  for i in range(len(arr)):\n",
        "    min_idx = i\n",
        "    for idx in range(i,len(arr)):\n",
        "      if arr[min_idx][1] >= arr[idx][1]:\n",
        "        min_idx = idx\n",
        "    arr[i], arr[min_idx] = arr[min_idx], arr[i]\n",
        "\n",
        "\n",
        "  currentTime = arr[0]\n",
        "  new_arr = [currentTime]\n",
        "  start,end=currentTime[0],currentTime[1]\n",
        "  for j in arr[1:]:\n",
        "    if j[0] >= end:\n",
        "      new_arr.append(j)\n",
        "      start,end=j[0],j[1]\n",
        "      arr.remove(j)\n",
        "  return(new_arr,arr)\n",
        "\n",
        "def task_counter(schedule, personCount):\n",
        "  taskCount = 0\n",
        "  for idx in range(personCount):\n",
        "    result, schedule = Task_Manager(schedule)\n",
        "    taskCount += len(result)\n",
        "  return taskCount\n",
        "\n",
        "inputfile = open(\"input4.txt\",\"r\")\n",
        "outputfile = open(\"output4.txt\",\"w\")\n",
        "\n",
        "l = inputfile.readlines()\n",
        "persons = int(l[0][2])\n",
        "array = []\n",
        "for t in l[1:]:\n",
        "  array.append(tuple(map(int,t.split(\" \"))))\n",
        "\n",
        "outputfile.write(str(task_counter(array, persons)))\n",
        "outputfile.close()"
      ]
    },
    {
      "cell_type": "code",
      "source": [],
      "metadata": {
        "id": "5FyHpch-zef8"
      },
      "execution_count": null,
      "outputs": []
    }
  ]
}