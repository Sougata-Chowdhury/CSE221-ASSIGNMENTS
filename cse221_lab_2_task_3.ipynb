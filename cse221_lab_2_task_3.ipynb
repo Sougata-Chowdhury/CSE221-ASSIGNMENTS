{
  "nbformat": 4,
  "nbformat_minor": 0,
  "metadata": {
    "colab": {
      "provenance": []
    },
    "kernelspec": {
      "name": "python3",
      "display_name": "Python 3"
    },
    "language_info": {
      "name": "python"
    }
  },
  "cells": [
    {
      "cell_type": "code",
      "source": [
        "def Task_Manager(arr):\n",
        "  for i in range(len(arr)):\n",
        "    min_idx = i\n",
        "    for idx in range(i,len(arr)):\n",
        "      if arr[min_idx][1] >= arr[idx][1]:\n",
        "        min_idx = idx\n",
        "    arr[i], arr[min_idx] = arr[min_idx], arr[i]\n",
        "\n",
        "\n",
        "  currentTime = arr[0]\n",
        "  new_arr = [currentTime]\n",
        "  for j in arr[1:]:\n",
        "    if j[0] >= currentTime[1]:\n",
        "      new_arr.append(j)\n",
        "      currentTime = j\n",
        "\n",
        "  return(new_arr)\n",
        "\n",
        "inputfile = open(\"input3.txt\",\"r\")\n",
        "outputfile = open(\"output3.txt\",\"w\")\n",
        "\n",
        "numbers = inputfile.readlines()\n",
        "array = []\n",
        "for time in numbers[1:]:\n",
        "  array.append(tuple(map(int,time.split(\" \"))))\n",
        "\n",
        "result = Task_Manager(array)\n",
        "\n",
        "outputfile.write(str(len(result))+\"\\n\")\n",
        "for t in result:\n",
        "  outputfile.write((str(t[0])+\" \"+str(t[1]))+\"\\n\")\n",
        "\n",
        "outputfile.close()"
      ],
      "metadata": {
        "id": "aeGdgBp-mCH6"
      },
      "execution_count": 3,
      "outputs": []
    },
    {
      "cell_type": "code",
      "source": [],
      "metadata": {
        "id": "2LW_xrH0oSjj"
      },
      "execution_count": null,
      "outputs": []
    }
  ]
}