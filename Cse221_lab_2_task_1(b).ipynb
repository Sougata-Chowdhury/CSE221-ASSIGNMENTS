{
  "nbformat": 4,
  "nbformat_minor": 0,
  "metadata": {
    "colab": {
      "provenance": []
    },
    "kernelspec": {
      "name": "python3",
      "display_name": "Python 3"
    },
    "language_info": {
      "name": "python"
    }
  },
  "cells": [
    {
      "cell_type": "code",
      "execution_count": 2,
      "metadata": {
        "id": "6tEkab2BfUVM"
      },
      "outputs": [],
      "source": [
        "def findtotal(n,target,arr):\n",
        "  i=0\n",
        "  j= n-1\n",
        "  flag=False\n",
        "  while i<j:\n",
        "    if arr[i]+arr[j]==target:\n",
        "      outputfile.write(f\"{i+1} {j+1}\")\n",
        "      flag=True\n",
        "      break\n",
        "    elif arr[i]+arr[j]>target:\n",
        "      j-=1\n",
        "    elif arr[i]+arr[j]<target:\n",
        "      i+=1\n",
        "  if flag==False:\n",
        "    outputfile.write(\"IMPOSSIBLE\")\n",
        "\n",
        "\n",
        "inputfile= open(\"input1b.txt\",\"r\")\n",
        "outputfile= open(\"output1b.txt\",\"w\")\n",
        "l=inputfile.readlines()\n",
        "n=int(l[0].split(\" \")[0])\n",
        "target=int(l[0].split(\" \")[1])\n",
        "arr=list(map(int,l[1].split(\" \")))\n",
        "findtotal(n,target,arr)"
      ]
    },
    {
      "cell_type": "code",
      "source": [],
      "metadata": {
        "id": "hXlU_rrIjoyX"
      },
      "execution_count": null,
      "outputs": []
    }
  ]
}