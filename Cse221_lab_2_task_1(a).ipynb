{
  "nbformat": 4,
  "nbformat_minor": 0,
  "metadata": {
    "colab": {
      "provenance": []
    },
    "kernelspec": {
      "name": "python3",
      "display_name": "Python 3"
    },
    "language_info": {
      "name": "python"
    }
  },
  "cells": [
    {
      "cell_type": "code",
      "source": [
        "def findtotal(n,target,arr):\n",
        "  flag=True\n",
        "  for i in range(n):\n",
        "    for j in range(n-1,i,-1):\n",
        "      if arr[i]+arr[j]== target :\n",
        "        outputfile.write(f\"{i+1} {j+1}\")\n",
        "        flag=False\n",
        "        break\n",
        "    if flag==False:\n",
        "      break\n",
        "  if flag==True:\n",
        "    outputfile.write(\"IMPOSSIBLE\")\n",
        "\n",
        "inputfile= open(\"input1a.txt\",\"r\")\n",
        "outputfile= open(\"output1a.txt\",\"w\")\n",
        "l=inputfile.readlines()\n",
        "n=int(l[0].split(\" \")[0])\n",
        "target=int(l[0].split(\" \")[1])\n",
        "arr=list(map(int,l[1].split(\" \")))\n",
        "findtotal(n,target,arr)"
      ],
      "metadata": {
        "id": "LEAaapfGb-25"
      },
      "execution_count": 3,
      "outputs": []
    },
    {
      "cell_type": "code",
      "source": [],
      "metadata": {
        "id": "3wTQZJQpe8wr"
      },
      "execution_count": null,
      "outputs": []
    }
  ]
}