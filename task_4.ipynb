{
  "nbformat": 4,
  "nbformat_minor": 0,
  "metadata": {
    "colab": {
      "provenance": []
    },
    "kernelspec": {
      "name": "python3",
      "display_name": "Python 3"
    },
    "language_info": {
      "name": "python"
    }
  },
  "cells": [
    {
      "cell_type": "code",
      "source": [
        "def selectionSort(name, destination, time, size):\n",
        "  for step in range(len(name)):\n",
        "    m_idx = step\n",
        "    for i in range(step + 1, size):\n",
        "      if name[i] < name[m_idx]:\n",
        "        m_idx = i\n",
        "\n",
        "      elif name[i] == name[m_idx] and time[i] > time[m_idx]:\n",
        "        m_idx = i\n",
        "\n",
        "      elif name[i] == name[m_idx] and time[i] == time[m_idx] and i < m_idx:\n",
        "        m_idx = i\n",
        "\n",
        "    time[step], time[m_idx] = time[m_idx], time[step]\n",
        "    name[step], name[m_idx] = name[m_idx], name[step]\n",
        "    destination[step], destination[m_idx] = destination[m_idx], destination[step]\n",
        "\n",
        "  return (name, destination, time)\n",
        "\n",
        "input = open(\"input4.txt\",\"r\")\n",
        "output = open(\"output4.txt\",\"w\")\n",
        "\n",
        "lines = input.readlines()\n",
        "size = int(lines[0])\n",
        "\n",
        "\n",
        "name, destination, time = [], [], []\n",
        "for idx in range(1,size+1):\n",
        "  train = lines[idx].split(\" \")\n",
        "  name.append(train[0])\n",
        "  destination.append(train[4])\n",
        "  if idx == (size):\n",
        "    time.append(train[6])\n",
        "  else:\n",
        "    time.append(train[6][:-1])\n",
        "\n",
        "sorted_name, sorted_destination, sorted_time = selectionSort(name, destination, time, size)\n",
        "\n",
        "for idx in range(size):\n",
        "  output.write(f\"{sorted_name[idx]} will departure for {sorted_destination[idx]} at {sorted_time[idx]}\\n\")\n",
        "\n",
        "output.close()"
      ],
      "metadata": {
        "id": "nXKAzJHjtGcM"
      },
      "execution_count": null,
      "outputs": []
    }
  ]
}