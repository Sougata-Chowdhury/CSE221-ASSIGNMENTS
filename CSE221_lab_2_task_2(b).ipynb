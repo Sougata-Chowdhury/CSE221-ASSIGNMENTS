{
  "nbformat": 4,
  "nbformat_minor": 0,
  "metadata": {
    "colab": {
      "provenance": []
    },
    "kernelspec": {
      "name": "python3",
      "display_name": "Python 3"
    },
    "language_info": {
      "name": "python"
    }
  },
  "cells": [
    {
      "cell_type": "code",
      "source": [
        "#task 2(b)\n",
        "def mergearray(arr1,arr2,n1,n2):\n",
        "  arr=[]\n",
        "  i,j=0,0\n",
        "  while i!=n1 and j!=n2:\n",
        "    if arr1[i]<arr2[j]:\n",
        "      arr.append(arr1[i])\n",
        "      i+=1\n",
        "    elif arr1[i]>arr2[j]:\n",
        "      arr.append(arr2[j])\n",
        "      j+=1\n",
        "    elif arr1[i]==arr2[j]:\n",
        "      arr.append(arr1[i])\n",
        "      arr.append(arr2[j])\n",
        "      i+=1\n",
        "      j+=1\n",
        "\n",
        "  if i<n1:\n",
        "    arr+=arr1[i:]\n",
        "  elif j<n2:\n",
        "    arr+=arr2[j:]\n",
        "\n",
        "  return arr\n",
        "\n",
        "file1=open('input2b.txt',\"r\")\n",
        "file2=open(\"output2b.txt\",\"w\")\n",
        "l=file1.readlines()\n",
        "arr1=list(map(int,l[1].split(\" \")))\n",
        "arr2=list(map(int,l[3].split(\" \")))\n",
        "n1=int(l[0])\n",
        "n2=int(l[2])\n",
        "file2.write(\" \".join(map(str,mergearray(arr1,arr2,n1,n2))))\n",
        "file2.close()"
      ],
      "metadata": {
        "id": "QhsjoZgkw7OG"
      },
      "execution_count": 5,
      "outputs": []
    },
    {
      "cell_type": "code",
      "source": [],
      "metadata": {
        "id": "_frAewV7H5OC"
      },
      "execution_count": null,
      "outputs": []
    }
  ]
}