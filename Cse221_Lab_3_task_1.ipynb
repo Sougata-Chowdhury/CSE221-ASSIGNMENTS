{
  "cells": [
    {
      "cell_type": "code",
      "execution_count": 2,
      "metadata": {
        "colab": {
          "base_uri": "https://localhost:8080/"
        },
        "id": "Li6RSIcj1YsM",
        "outputId": "5e96e723-16e8-4ba0-d5a0-a62926b71ee2"
      },
      "outputs": [
        {
          "data": {
            "text/plain": [
              "15"
            ]
          },
          "execution_count": 2,
          "metadata": {},
          "output_type": "execute_result"
        }
      ],
      "source": [
        "def merge(arr1,arr2):\n",
        "  array = []\n",
        "\n",
        "  i,j = 0,0\n",
        "\n",
        "  while i != len(arr1) and j != len(arr2):\n",
        "    if arr1[i] <= arr2[j]:\n",
        "      array.append(arr1[i])\n",
        "      i += 1\n",
        "    elif arr1[i] >= arr2[j]:\n",
        "      array.append(arr2[j])\n",
        "      j += 1\n",
        "\n",
        "  if i != len(arr1):\n",
        "    array += arr1[i:]\n",
        "  elif j != len(arr2):\n",
        "    array += arr2[j:]\n",
        "\n",
        "  return array\n",
        "\n",
        "def mergeSort(arr):\n",
        "  if len(arr) <= 1:\n",
        "      return arr\n",
        "  else:\n",
        "      mid = len(arr)//2\n",
        "      a1 = mergeSort(arr[:mid])\n",
        "      a2 = mergeSort(arr[mid:])\n",
        "      return merge(a1, a2)\n",
        "\n",
        "inputfile= open('input1.txt','r')\n",
        "outputfile= open(\"output1.txt\",'w')\n",
        "\n",
        "l= inputfile.readlines()\n",
        "arr=list(map(int,l[1].split(\" \")))\n",
        "outputfile.write(\" \".join(map(str,mergeSort(arr))))\n",
        "outputfile.close()"
      ]
    }
  ],
  "metadata": {
    "colab": {
      "provenance": []
    },
    "kernelspec": {
      "display_name": "Python 3",
      "name": "python3"
    },
    "language_info": {
      "name": "python"
    }
  },
  "nbformat": 4,
  "nbformat_minor": 0
}
